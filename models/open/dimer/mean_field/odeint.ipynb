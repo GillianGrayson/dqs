{
 "cells": [
  {
   "cell_type": "code",
   "execution_count": 13,
   "metadata": {
    "collapsed": true,
    "pycharm": {
     "name": "#%%\n"
    }
   },
   "outputs": [],
   "source": [
    "from jitcode import jitcode, y, t\n",
    "import numpy as np\n",
    "import symengine as se\n",
    "import pathlib"
   ]
  },
  {
   "cell_type": "code",
   "execution_count": 14,
   "outputs": [],
   "source": [
    "path_save = \"E:/YandexDisk/Work/qs/data/models/open/dimer/mean_field\"\n",
    "\n",
    "ss = 2\n",
    "\n",
    "Us = np.linspace(0.01, 0.50, 50)\n",
    "j = 1\n",
    "gamma = 0.1\n",
    "\n",
    "a = 3.4\n",
    "omega = 1.0\n",
    "phase = 0.0\n",
    "\n",
    "seed = 42\n",
    "\n",
    "n_trans = 100\n",
    "n_obser = 1000\n",
    "\n",
    "np.random.seed(seed)\n",
    "\n",
    "init_state = np.random.uniform(-np.pi, np.pi, ss)\n",
    "\n",
    "period = 2.0 * np.pi / omega\n",
    "\n",
    "times = np.linspace(n_trans * period, (n_trans + n_obser)  * period, n_obser + 1)"
   ],
   "metadata": {
    "collapsed": false,
    "pycharm": {
     "name": "#%%\n"
    }
   }
  },
  {
   "cell_type": "code",
   "execution_count": 16,
   "outputs": [
    {
     "name": "stdout",
     "output_type": "stream",
     "text": [
      "Generating, compiling, and loading C code.\n",
      "generated C code for f\n",
      "Generating, compiling, and loading C code.\n",
      "generated C code for f\n",
      "Generating, compiling, and loading C code.\n",
      "generated C code for f\n",
      "Generating, compiling, and loading C code.\n",
      "generated C code for f\n",
      "Generating, compiling, and loading C code.\n",
      "generated C code for f\n",
      "Generating, compiling, and loading C code.\n",
      "generated C code for f\n",
      "Generating, compiling, and loading C code.\n",
      "generated C code for f\n",
      "Generating, compiling, and loading C code.\n",
      "generated C code for f\n",
      "Generating, compiling, and loading C code.\n",
      "generated C code for f\n",
      "Generating, compiling, and loading C code.\n",
      "generated C code for f\n",
      "Generating, compiling, and loading C code.\n",
      "generated C code for f\n",
      "Generating, compiling, and loading C code.\n",
      "generated C code for f\n",
      "Generating, compiling, and loading C code.\n",
      "generated C code for f\n",
      "Generating, compiling, and loading C code.\n",
      "generated C code for f\n",
      "Generating, compiling, and loading C code.\n",
      "generated C code for f\n",
      "Generating, compiling, and loading C code.\n",
      "generated C code for f\n",
      "Generating, compiling, and loading C code.\n",
      "generated C code for f\n",
      "Generating, compiling, and loading C code.\n",
      "generated C code for f\n",
      "Generating, compiling, and loading C code.\n",
      "generated C code for f\n",
      "Generating, compiling, and loading C code.\n",
      "generated C code for f\n",
      "Generating, compiling, and loading C code.\n",
      "generated C code for f\n",
      "Generating, compiling, and loading C code.\n",
      "generated C code for f\n",
      "Generating, compiling, and loading C code.\n",
      "generated C code for f\n",
      "Generating, compiling, and loading C code.\n",
      "generated C code for f\n",
      "Generating, compiling, and loading C code.\n",
      "generated C code for f\n",
      "Generating, compiling, and loading C code.\n",
      "generated C code for f\n",
      "Generating, compiling, and loading C code.\n",
      "generated C code for f\n",
      "Generating, compiling, and loading C code.\n",
      "generated C code for f\n",
      "Generating, compiling, and loading C code.\n",
      "generated C code for f\n",
      "Generating, compiling, and loading C code.\n",
      "generated C code for f\n",
      "Generating, compiling, and loading C code.\n",
      "generated C code for f\n",
      "Generating, compiling, and loading C code.\n",
      "generated C code for f\n",
      "Generating, compiling, and loading C code.\n",
      "generated C code for f\n",
      "Generating, compiling, and loading C code.\n",
      "generated C code for f\n",
      "Generating, compiling, and loading C code.\n",
      "generated C code for f\n",
      "Generating, compiling, and loading C code.\n",
      "generated C code for f\n",
      "Generating, compiling, and loading C code.\n",
      "generated C code for f\n",
      "Generating, compiling, and loading C code.\n",
      "generated C code for f\n",
      "Generating, compiling, and loading C code.\n",
      "generated C code for f\n",
      "Generating, compiling, and loading C code.\n",
      "generated C code for f\n",
      "Generating, compiling, and loading C code.\n",
      "generated C code for f\n",
      "Generating, compiling, and loading C code.\n",
      "generated C code for f\n",
      "Generating, compiling, and loading C code.\n",
      "generated C code for f\n",
      "Generating, compiling, and loading C code.\n",
      "generated C code for f\n",
      "Generating, compiling, and loading C code.\n",
      "generated C code for f\n",
      "Generating, compiling, and loading C code.\n",
      "generated C code for f\n",
      "Generating, compiling, and loading C code.\n",
      "generated C code for f\n",
      "Generating, compiling, and loading C code.\n",
      "generated C code for f\n",
      "Generating, compiling, and loading C code.\n",
      "generated C code for f\n",
      "Generating, compiling, and loading C code.\n",
      "generated C code for f\n"
     ]
    }
   ],
   "source": [
    "for U in Us:\n",
    "\n",
    "    f = [\n",
    "        2.0 * j * se.sin(y(1)) + 4.0 * gamma * se.cos(y(1)) * se.cos(y(0)),\n",
    "        2.0 * j * se.cos(y(0)) * se.cos(y(1)) / se.sin(y(0)) - 2.0 * a * se.sin(omega * t + phase) + 4.0 * U * se.cos(y(0)) - 4.0 * gamma * se.sin(y(1)) / se.sin(y(0))\n",
    "    ]\n",
    "\n",
    "    ODE = jitcode(f)\n",
    "    ODE.set_integrator(\"dopri5\")\n",
    "    ODE.set_initial_value(init_state, 0.0)\n",
    "\n",
    "    data = []\n",
    "    for time in times:\n",
    "        data.append(ODE.integrate(time))\n",
    "\n",
    "    data = np.asarray(data)\n",
    "    pathlib.Path(f\"{path_save}/params({j:0.4f}_{U:0.4f}_{gamma:0.4f})_mod({a:0.4f}_{omega:0.4f}_{phase:0.4f})\").mkdir(parents=True, exist_ok=True)\n",
    "    np.savetxt(f\"{path_save}/params({j:0.4f}_{U:0.4f}_{gamma:0.4f})_mod({a:0.4f}_{omega:0.4f}_{phase:0.4f})/data.txt\", data)"
   ],
   "metadata": {
    "collapsed": false,
    "pycharm": {
     "name": "#%%\n"
    }
   }
  },
  {
   "cell_type": "code",
   "execution_count": 7,
   "outputs": [],
   "source": [],
   "metadata": {
    "collapsed": false,
    "pycharm": {
     "name": "#%%\n"
    }
   }
  },
  {
   "cell_type": "code",
   "execution_count": null,
   "outputs": [],
   "source": [],
   "metadata": {
    "collapsed": false,
    "pycharm": {
     "name": "#%%\n"
    }
   }
  }
 ],
 "metadata": {
  "kernelspec": {
   "display_name": "Python 3",
   "language": "python",
   "name": "python3"
  },
  "language_info": {
   "codemirror_mode": {
    "name": "ipython",
    "version": 2
   },
   "file_extension": ".py",
   "mimetype": "text/x-python",
   "name": "python",
   "nbconvert_exporter": "python",
   "pygments_lexer": "ipython2",
   "version": "2.7.6"
  }
 },
 "nbformat": 4,
 "nbformat_minor": 0
}