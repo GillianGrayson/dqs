{
 "cells": [
  {
   "cell_type": "code",
   "execution_count": 18,
   "metadata": {
    "collapsed": true,
    "pycharm": {
     "name": "#%%\n"
    }
   },
   "outputs": [],
   "source": [
    "from jitcode import jitcode, y, t, jitcode_lyap\n",
    "import numpy as np\n",
    "import symengine as se\n",
    "import pathlib"
   ]
  },
  {
   "cell_type": "code",
   "execution_count": 22,
   "outputs": [],
   "source": [
    "path_save = \"E:/YandexDisk/Work/qs/data/models/open/dimer/mean_field\"\n",
    "\n",
    "ss = 2\n",
    "\n",
    "Us = np.linspace(0.01, 0.50, 50)\n",
    "j = 1\n",
    "gamma = 0.1\n",
    "\n",
    "a = 3.4\n",
    "omega = 1.0\n",
    "phase = 0.0\n",
    "\n",
    "seed = 42\n",
    "\n",
    "n_trans = 100\n",
    "n_obser = 1000\n",
    "\n",
    "np.random.seed(seed)\n",
    "\n",
    "init_state = np.random.uniform(-np.pi, np.pi, ss)\n",
    "\n",
    "period = 2.0 * np.pi / omega\n",
    "\n",
    "times = np.linspace(n_trans * period, (n_trans + n_obser)  * period, n_obser + 1)"
   ],
   "metadata": {
    "collapsed": false,
    "pycharm": {
     "name": "#%%\n"
    }
   }
  },
  {
   "cell_type": "code",
   "execution_count": 32,
   "outputs": [
    {
     "name": "stdout",
     "output_type": "stream",
     "text": [
      "Generating, compiling, and loading C code.\n",
      "generated C code for f\n",
      "Generating, compiling, and loading C code.\n",
      "generated C code for f\n",
      "Generating, compiling, and loading C code.\n",
      "generated C code for f\n",
      "Generating, compiling, and loading C code.\n",
      "generated C code for f\n",
      "Generating, compiling, and loading C code.\n",
      "generated C code for f\n",
      "Generating, compiling, and loading C code.\n",
      "generated C code for f\n",
      "Generating, compiling, and loading C code.\n",
      "generated C code for f\n",
      "Generating, compiling, and loading C code.\n",
      "generated C code for f\n",
      "Generating, compiling, and loading C code.\n",
      "generated C code for f\n",
      "Generating, compiling, and loading C code.\n",
      "generated C code for f\n",
      "Generating, compiling, and loading C code.\n",
      "generated C code for f\n",
      "Generating, compiling, and loading C code.\n",
      "generated C code for f\n",
      "Generating, compiling, and loading C code.\n",
      "generated C code for f\n",
      "Generating, compiling, and loading C code.\n",
      "generated C code for f\n",
      "Generating, compiling, and loading C code.\n",
      "generated C code for f\n",
      "Generating, compiling, and loading C code.\n",
      "generated C code for f\n",
      "Generating, compiling, and loading C code.\n",
      "generated C code for f\n",
      "Generating, compiling, and loading C code.\n",
      "generated C code for f\n",
      "Generating, compiling, and loading C code.\n",
      "generated C code for f\n",
      "Generating, compiling, and loading C code.\n",
      "generated C code for f\n",
      "Generating, compiling, and loading C code.\n",
      "generated C code for f\n",
      "Generating, compiling, and loading C code.\n",
      "generated C code for f\n",
      "Generating, compiling, and loading C code.\n",
      "generated C code for f\n",
      "Generating, compiling, and loading C code.\n",
      "generated C code for f\n",
      "Generating, compiling, and loading C code.\n",
      "generated C code for f\n",
      "Generating, compiling, and loading C code.\n",
      "generated C code for f\n",
      "Generating, compiling, and loading C code.\n",
      "generated C code for f\n",
      "Generating, compiling, and loading C code.\n",
      "generated C code for f\n",
      "Generating, compiling, and loading C code.\n",
      "generated C code for f\n",
      "Generating, compiling, and loading C code.\n",
      "generated C code for f\n",
      "Generating, compiling, and loading C code.\n",
      "generated C code for f\n",
      "Generating, compiling, and loading C code.\n",
      "generated C code for f\n",
      "Generating, compiling, and loading C code.\n",
      "generated C code for f\n",
      "Generating, compiling, and loading C code.\n",
      "generated C code for f\n",
      "Generating, compiling, and loading C code.\n",
      "generated C code for f\n",
      "Generating, compiling, and loading C code.\n",
      "generated C code for f\n",
      "Generating, compiling, and loading C code.\n",
      "generated C code for f\n",
      "Generating, compiling, and loading C code.\n",
      "generated C code for f\n",
      "Generating, compiling, and loading C code.\n",
      "generated C code for f\n",
      "Generating, compiling, and loading C code.\n",
      "generated C code for f\n",
      "Generating, compiling, and loading C code.\n",
      "generated C code for f\n",
      "Generating, compiling, and loading C code.\n",
      "generated C code for f\n",
      "Generating, compiling, and loading C code.\n",
      "generated C code for f\n",
      "Generating, compiling, and loading C code.\n",
      "generated C code for f\n",
      "Generating, compiling, and loading C code.\n",
      "generated C code for f\n",
      "Generating, compiling, and loading C code.\n",
      "generated C code for f\n",
      "Generating, compiling, and loading C code.\n",
      "generated C code for f\n",
      "Generating, compiling, and loading C code.\n",
      "generated C code for f\n",
      "Generating, compiling, and loading C code.\n",
      "generated C code for f\n",
      "Generating, compiling, and loading C code.\n",
      "generated C code for f\n"
     ]
    }
   ],
   "source": [
    "for U in Us:\n",
    "\n",
    "    f = [\n",
    "        2.0 * j * se.sin(y(1)) + 4.0 * gamma * se.cos(y(1)) * se.cos(y(0)),\n",
    "        2.0 * j * se.cos(y(0)) * se.cos(y(1)) / se.sin(y(0)) - 2.0 * a * se.sin(omega * t + phase) + 4.0 * U * se.cos(y(0)) - 4.0 * gamma * se.sin(y(1)) / se.sin(y(0))\n",
    "    ]\n",
    "\n",
    "    ODE = jitcode_lyap(f, n_lyap=ss)\n",
    "    ODE.set_integrator(\"dopri5\")\n",
    "    ODE.set_initial_value(init_state, 0.0)\n",
    "\n",
    "    lyaps = []\n",
    "    data = []\n",
    "    for time in times:\n",
    "        res = ODE.integrate(time)\n",
    "        data.append(res[0])\n",
    "        lyaps.append(res[1])\n",
    "\n",
    "    data = np.asarray(data)\n",
    "    lyaps = np.asarray(lyaps)\n",
    "    pathlib.Path(f\"{path_save}/params({j:0.4f}_{U:0.4f}_{gamma:0.4f})_mod({a:0.4f}_{omega:0.4f}_{phase:0.4f})\").mkdir(parents=True, exist_ok=True)\n",
    "    np.savetxt(f\"{path_save}/params({j:0.4f}_{U:0.4f}_{gamma:0.4f})_mod({a:0.4f}_{omega:0.4f}_{phase:0.4f})/data.txt\", data)\n",
    "    np.savetxt(f\"{path_save}/params({j:0.4f}_{U:0.4f}_{gamma:0.4f})_mod({a:0.4f}_{omega:0.4f}_{phase:0.4f})/lyaps.txt\", lyaps)\n"
   ],
   "metadata": {
    "collapsed": false,
    "pycharm": {
     "name": "#%%\n"
    }
   }
  },
  {
   "cell_type": "code",
   "execution_count": 25,
   "outputs": [
    {
     "name": "stdout",
     "output_type": "stream",
     "text": [
      "Generating, compiling, and loading C code.\n",
      "generated C code for f\n"
     ]
    }
   ],
   "source": [
    "U = Us[0]\n",
    "f = [\n",
    "    2.0 * j * se.sin(y(1)) + 4.0 * gamma * se.cos(y(1)) * se.cos(y(0)),\n",
    "    2.0 * j * se.cos(y(0)) * se.cos(y(1)) / se.sin(y(0)) - 2.0 * a * se.sin(omega * t + phase) + 4.0 * U * se.cos(y(0)) - 4.0 * gamma * se.sin(y(1)) / se.sin(y(0))\n",
    "]\n",
    "\n",
    "ODE = jitcode_lyap(f, n_lyap=ss)\n",
    "ODE.set_integrator(\"dopri5\")\n",
    "ODE.set_initial_value(init_state, 0.0)\n",
    "\n",
    "lyaps = []\n",
    "for time in times:\n",
    "    lyaps.append(ODE.integrate(time)[1])"
   ],
   "metadata": {
    "collapsed": false,
    "pycharm": {
     "name": "#%%\n"
    }
   }
  },
  {
   "cell_type": "code",
   "execution_count": 26,
   "outputs": [
    {
     "ename": "KeyboardInterrupt",
     "evalue": "",
     "output_type": "error",
     "traceback": [
      "\u001B[1;31m---------------------------------------------------------------------------\u001B[0m",
      "\u001B[1;31mKeyboardInterrupt\u001B[0m                         Traceback (most recent call last)",
      "\u001B[1;32m~\\AppData\\Local\\Temp/ipykernel_27932/1698243586.py\u001B[0m in \u001B[0;36m<module>\u001B[1;34m\u001B[0m\n\u001B[1;32m----> 1\u001B[1;33m \u001B[0mololo\u001B[0m \u001B[1;33m=\u001B[0m \u001B[1;36m1\u001B[0m\u001B[1;33m\u001B[0m\u001B[1;33m\u001B[0m\u001B[0m\n\u001B[0m",
      "\u001B[1;32m~\\AppData\\Local\\Temp/ipykernel_27932/1698243586.py\u001B[0m in \u001B[0;36m<module>\u001B[1;34m\u001B[0m\n\u001B[1;32m----> 1\u001B[1;33m \u001B[0mololo\u001B[0m \u001B[1;33m=\u001B[0m \u001B[1;36m1\u001B[0m\u001B[1;33m\u001B[0m\u001B[1;33m\u001B[0m\u001B[0m\n\u001B[0m",
      "\u001B[1;32m_pydevd_bundle\\pydevd_cython_win32_38_64.pyx\u001B[0m in \u001B[0;36m_pydevd_bundle.pydevd_cython_win32_38_64.SafeCallWrapper.__call__\u001B[1;34m()\u001B[0m\n",
      "\u001B[1;32m_pydevd_bundle\\pydevd_cython_win32_38_64.pyx\u001B[0m in \u001B[0;36m_pydevd_bundle.pydevd_cython_win32_38_64.PyDBFrame.trace_dispatch\u001B[1;34m()\u001B[0m\n",
      "\u001B[1;32m_pydevd_bundle\\pydevd_cython_win32_38_64.pyx\u001B[0m in \u001B[0;36m_pydevd_bundle.pydevd_cython_win32_38_64.PyDBFrame.trace_dispatch\u001B[1;34m()\u001B[0m\n",
      "\u001B[1;32m_pydevd_bundle\\pydevd_cython_win32_38_64.pyx\u001B[0m in \u001B[0;36m_pydevd_bundle.pydevd_cython_win32_38_64.PyDBFrame.trace_dispatch\u001B[1;34m()\u001B[0m\n",
      "\u001B[1;32m_pydevd_bundle\\pydevd_cython_win32_38_64.pyx\u001B[0m in \u001B[0;36m_pydevd_bundle.pydevd_cython_win32_38_64.PyDBFrame.do_wait_suspend\u001B[1;34m()\u001B[0m\n",
      "\u001B[1;32m~\\AppData\\Local\\JetBrains\\Toolbox\\apps\\PyCharm-P\\ch-0\\221.5591.52\\plugins\\python\\helpers\\pydev\\pydevd.py\u001B[0m in \u001B[0;36mdo_wait_suspend\u001B[1;34m(self, thread, frame, event, arg, send_suspend_message, is_unhandled_exception)\u001B[0m\n\u001B[0;32m   1153\u001B[0m \u001B[1;33m\u001B[0m\u001B[0m\n\u001B[0;32m   1154\u001B[0m         \u001B[1;32mwith\u001B[0m \u001B[0mself\u001B[0m\u001B[1;33m.\u001B[0m\u001B[0m_threads_suspended_single_notification\u001B[0m\u001B[1;33m.\u001B[0m\u001B[0mnotify_thread_suspended\u001B[0m\u001B[1;33m(\u001B[0m\u001B[0mthread_id\u001B[0m\u001B[1;33m,\u001B[0m \u001B[0mstop_reason\u001B[0m\u001B[1;33m)\u001B[0m\u001B[1;33m:\u001B[0m\u001B[1;33m\u001B[0m\u001B[1;33m\u001B[0m\u001B[0m\n\u001B[1;32m-> 1155\u001B[1;33m             \u001B[0mself\u001B[0m\u001B[1;33m.\u001B[0m\u001B[0m_do_wait_suspend\u001B[0m\u001B[1;33m(\u001B[0m\u001B[0mthread\u001B[0m\u001B[1;33m,\u001B[0m \u001B[0mframe\u001B[0m\u001B[1;33m,\u001B[0m \u001B[0mevent\u001B[0m\u001B[1;33m,\u001B[0m \u001B[0marg\u001B[0m\u001B[1;33m,\u001B[0m \u001B[0msuspend_type\u001B[0m\u001B[1;33m,\u001B[0m \u001B[0mfrom_this_thread\u001B[0m\u001B[1;33m)\u001B[0m\u001B[1;33m\u001B[0m\u001B[1;33m\u001B[0m\u001B[0m\n\u001B[0m\u001B[0;32m   1156\u001B[0m \u001B[1;33m\u001B[0m\u001B[0m\n\u001B[0;32m   1157\u001B[0m     \u001B[1;32mdef\u001B[0m \u001B[0m_do_wait_suspend\u001B[0m\u001B[1;33m(\u001B[0m\u001B[0mself\u001B[0m\u001B[1;33m,\u001B[0m \u001B[0mthread\u001B[0m\u001B[1;33m,\u001B[0m \u001B[0mframe\u001B[0m\u001B[1;33m,\u001B[0m \u001B[0mevent\u001B[0m\u001B[1;33m,\u001B[0m \u001B[0marg\u001B[0m\u001B[1;33m,\u001B[0m \u001B[0msuspend_type\u001B[0m\u001B[1;33m,\u001B[0m \u001B[0mfrom_this_thread\u001B[0m\u001B[1;33m)\u001B[0m\u001B[1;33m:\u001B[0m\u001B[1;33m\u001B[0m\u001B[1;33m\u001B[0m\u001B[0m\n",
      "\u001B[1;32m~\\AppData\\Local\\JetBrains\\Toolbox\\apps\\PyCharm-P\\ch-0\\221.5591.52\\plugins\\python\\helpers\\pydev\\pydevd.py\u001B[0m in \u001B[0;36m_do_wait_suspend\u001B[1;34m(self, thread, frame, event, arg, suspend_type, from_this_thread)\u001B[0m\n\u001B[0;32m   1168\u001B[0m \u001B[1;33m\u001B[0m\u001B[0m\n\u001B[0;32m   1169\u001B[0m                 \u001B[0mself\u001B[0m\u001B[1;33m.\u001B[0m\u001B[0mprocess_internal_commands\u001B[0m\u001B[1;33m(\u001B[0m\u001B[1;33m)\u001B[0m\u001B[1;33m\u001B[0m\u001B[1;33m\u001B[0m\u001B[0m\n\u001B[1;32m-> 1170\u001B[1;33m                 \u001B[0mtime\u001B[0m\u001B[1;33m.\u001B[0m\u001B[0msleep\u001B[0m\u001B[1;33m(\u001B[0m\u001B[1;36m0.01\u001B[0m\u001B[1;33m)\u001B[0m\u001B[1;33m\u001B[0m\u001B[1;33m\u001B[0m\u001B[0m\n\u001B[0m\u001B[0;32m   1171\u001B[0m \u001B[1;33m\u001B[0m\u001B[0m\n\u001B[0;32m   1172\u001B[0m         \u001B[0mself\u001B[0m\u001B[1;33m.\u001B[0m\u001B[0mcancel_async_evaluation\u001B[0m\u001B[1;33m(\u001B[0m\u001B[0mget_current_thread_id\u001B[0m\u001B[1;33m(\u001B[0m\u001B[0mthread\u001B[0m\u001B[1;33m)\u001B[0m\u001B[1;33m,\u001B[0m \u001B[0mstr\u001B[0m\u001B[1;33m(\u001B[0m\u001B[0mid\u001B[0m\u001B[1;33m(\u001B[0m\u001B[0mframe\u001B[0m\u001B[1;33m)\u001B[0m\u001B[1;33m)\u001B[0m\u001B[1;33m)\u001B[0m\u001B[1;33m\u001B[0m\u001B[1;33m\u001B[0m\u001B[0m\n",
      "\u001B[1;31mKeyboardInterrupt\u001B[0m: "
     ]
    }
   ],
   "source": [
    "ololo = 1"
   ],
   "metadata": {
    "collapsed": false,
    "pycharm": {
     "name": "#%%\n"
    }
   }
  }
 ],
 "metadata": {
  "kernelspec": {
   "display_name": "Python 3",
   "language": "python",
   "name": "python3"
  },
  "language_info": {
   "codemirror_mode": {
    "name": "ipython",
    "version": 2
   },
   "file_extension": ".py",
   "mimetype": "text/x-python",
   "name": "python",
   "nbconvert_exporter": "python",
   "pygments_lexer": "ipython2",
   "version": "2.7.6"
  }
 },
 "nbformat": 4,
 "nbformat_minor": 0
}